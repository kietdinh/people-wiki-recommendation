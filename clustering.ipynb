{
 "cells": [
  {
   "cell_type": "markdown",
   "metadata": {
    "_cell_guid": "53c41070-ecd5-4b50-b5de-889988fd4a7b",
    "_uuid": "aab75ff0ded09f82415fea7956171a8439fb5268"
   },
   "source": [
    "# CINNAMON CLUSTERING REPORT\n",
    "\n",
    "## Báo cáo assignment ___Clustering___\n",
    "\n",
    "Nội dung báo cáo gồm\n",
    "- Phân tích dữ liệu\n",
    "- Features Extraction\n",
    "- Tính độ tương đồng, recommend (cosine)\n",
    "- KNN, Clustering\n",
    "- Nhận xét"
   ]
  },
  {
   "cell_type": "markdown",
   "metadata": {},
   "source": [
    "### Phân tích dữ liệu"
   ]
  },
  {
   "cell_type": "markdown",
   "metadata": {},
   "source": [
    "Load thư viện"
   ]
  },
  {
   "cell_type": "code",
   "execution_count": 1,
   "metadata": {
    "_cell_guid": "57c1f0a7-b270-49de-98a0-58946cc6f0cb",
    "_uuid": "79ae26fdec04531db3def5a5cde2081d0908c696"
   },
   "outputs": [],
   "source": [
    "import numpy as np\n",
    "import pandas as pd\n",
    "import nltk\n",
    "import re\n",
    "import os\n",
    "import matplotlib.pyplot as plt\n",
    "\n",
    "from sklearn.feature_extraction.text import TfidfVectorizer, CountVectorizer"
   ]
  },
  {
   "cell_type": "markdown",
   "metadata": {},
   "source": [
    "Đọc dữ liệu, loại bỏ cột URI"
   ]
  },
  {
   "cell_type": "code",
   "execution_count": 2,
   "metadata": {
    "_cell_guid": "24fa3e18-2a49-44b1-a94b-a91756f38c8e",
    "_uuid": "b9bfb991dde732a250466a1f21c8870107f8a3c4"
   },
   "outputs": [
    {
     "data": {
      "text/html": [
       "<div>\n",
       "<style>\n",
       "    .dataframe thead tr:only-child th {\n",
       "        text-align: right;\n",
       "    }\n",
       "\n",
       "    .dataframe thead th {\n",
       "        text-align: left;\n",
       "    }\n",
       "\n",
       "    .dataframe tbody tr th {\n",
       "        vertical-align: top;\n",
       "    }\n",
       "</style>\n",
       "<table border=\"1\" class=\"dataframe\">\n",
       "  <thead>\n",
       "    <tr style=\"text-align: right;\">\n",
       "      <th></th>\n",
       "      <th>name</th>\n",
       "      <th>text</th>\n",
       "    </tr>\n",
       "  </thead>\n",
       "  <tbody>\n",
       "    <tr>\n",
       "      <th>0</th>\n",
       "      <td>Sarah Pedinotti</td>\n",
       "      <td>sarah pedinotti is an american songwriter and ...</td>\n",
       "    </tr>\n",
       "    <tr>\n",
       "      <th>1</th>\n",
       "      <td>Maxim Korobov</td>\n",
       "      <td>maxim leonidovich korobov born december 3 1957...</td>\n",
       "    </tr>\n",
       "    <tr>\n",
       "      <th>2</th>\n",
       "      <td>Leon Menezes</td>\n",
       "      <td>leon menezes is a pakistani management profess...</td>\n",
       "    </tr>\n",
       "    <tr>\n",
       "      <th>3</th>\n",
       "      <td>Cynthia Weber</td>\n",
       "      <td>cynthia weber is a professor of international ...</td>\n",
       "    </tr>\n",
       "    <tr>\n",
       "      <th>4</th>\n",
       "      <td>Markus Aspelmeyer</td>\n",
       "      <td>markus aspelmeyer is an austrian quantum physi...</td>\n",
       "    </tr>\n",
       "  </tbody>\n",
       "</table>\n",
       "</div>"
      ],
      "text/plain": [
       "                name                                               text\n",
       "0    Sarah Pedinotti  sarah pedinotti is an american songwriter and ...\n",
       "1      Maxim Korobov  maxim leonidovich korobov born december 3 1957...\n",
       "2       Leon Menezes  leon menezes is a pakistani management profess...\n",
       "3      Cynthia Weber  cynthia weber is a professor of international ...\n",
       "4  Markus Aspelmeyer  markus aspelmeyer is an austrian quantum physi..."
      ]
     },
     "execution_count": 2,
     "metadata": {},
     "output_type": "execute_result"
    }
   ],
   "source": [
    "data_all = pd.read_csv('people_wiki.csv').drop('URI', axis=1)\n",
    "\n",
    "# Shuffle cho khách quan\n",
    "data_all = data_all.sample(frac=1).reset_index(drop=True)\n",
    "data_all.head()"
   ]
  },
  {
   "cell_type": "markdown",
   "metadata": {},
   "source": [
    "Sử dụng thư viện ___nltk___ để stemming và loại bỏ ___stopwords___\n",
    "\n",
    "Ngôn ngữ của data chỉ có tiếng anh"
   ]
  },
  {
   "cell_type": "code",
   "execution_count": 3,
   "metadata": {
    "_cell_guid": "f8a35b90-b1aa-4a7e-806f-f0d67fd7996a",
    "_uuid": "012326cf293b8adb63f417407e28e1de8a028ac0"
   },
   "outputs": [],
   "source": [
    "from nltk.stem.snowball import SnowballStemmer\n",
    "\n",
    "stemmer = SnowballStemmer(\"english\")"
   ]
  },
  {
   "cell_type": "code",
   "execution_count": 4,
   "metadata": {
    "_cell_guid": "ae562c07-a31b-4bf5-ab5e-2bf01ba1d894",
    "_uuid": "62ccbd112f178a1236c621bdb8428fcc1d6ba519"
   },
   "outputs": [
    {
     "data": {
      "text/plain": [
       "['i', 'me', 'my', 'myself', 'we', 'our', 'ours', 'ourselves', 'you', \"you're\"]"
      ]
     },
     "execution_count": 4,
     "metadata": {},
     "output_type": "execute_result"
    }
   ],
   "source": [
    "stopwords = nltk.corpus.stopwords.words('english')\n",
    "stopwords[:10]"
   ]
  },
  {
   "cell_type": "markdown",
   "metadata": {},
   "source": [
    "- ```important(text)```: lọc ra các danh từ và tính từ quan trọng\n",
    "- ```cleaner(text)```: hàm loại bỏ các kí tự lạ"
   ]
  },
  {
   "cell_type": "code",
   "execution_count": 5,
   "metadata": {
    "_cell_guid": "c7aedd0b-ef49-4b1b-bfb3-eda9e426d093",
    "_uuid": "1e651e15803ea7adc522b8fb2bca330381f50e61"
   },
   "outputs": [],
   "source": [
    "def important(text):\n",
    "    # Văn bản sau khi clean đơn giản nên chỉ cần tách dấu cách\n",
    "    tokens = text.split(' ')\n",
    "    tags = nltk.pos_tag(tokens)\n",
    "    nouns = [word for word, pos in tags if (pos == 'JJ' or pos.startswith('NN'))]\n",
    "    return nouns\n",
    "\n",
    "def cleaner(text):\n",
    "    # Loại bỏ chữ ngắn hơn 2 kí tự, các kí tự không phải là chữ\n",
    "    short = re.sub(r'\\b[a-zA-Z-]{0,2}\\b|[^a-zA-Z- ]+', '', text.replace('\\\\', '').lower())\n",
    "    # Loại bỏ các dấu cách liên nhau\n",
    "    space = re.sub(r'[ ]{2,}', ' ', short)\n",
    "    trimm = re.sub(r' $|^\\s+', '', space)\n",
    "    return trimm"
   ]
  },
  {
   "cell_type": "code",
   "execution_count": 6,
   "metadata": {
    "_cell_guid": "bc115281-1259-4d1f-b66b-f8b495e6c149",
    "_uuid": "66dcaf2b215f36a59e176987c92789c6ede8b744",
    "scrolled": true
   },
   "outputs": [
    {
     "data": {
      "text/plain": [
       "'barack hussein obama ii brk husen bm born august 4 1961 is the 44th and current president of the united states and the first african american to hold the office born in honolulu hawaii obama is a graduate of columbia university and harvard law school where he served as president of the harvard law review he was a community organizer in chicago before earning his law degree he worked as a civil rights attorney and taught constitutional law at the university of chicago law school from 1992 to 2004 he served three terms representing the 13th district in the illinois senate from 1997 to 2004 running unsuccessfully for the united states house of representatives in 2000in 2004 obama received national attention during his campaign to represent illinois in the united states senate with his victory in the march democratic party primary his keynote address at the democratic national convention in july and his election to the senate in november he began his presidential campaign in 2007 and after a close primary campaign against hillary rodham clinton in 2008 he won sufficient delegates in the democratic party primaries to receive the presidential nomination he then defeated republican nominee john mccain in the general election and was inaugurated as president on january 20 2009 nine months after his election obama was named the 2009 nobel peace prize laureateduring his first two years in office obama signed into law economic stimulus legislation in response to the great recession in the form of the american recovery and reinvestment act of 2009 and the tax relief unemployment insurance reauthorization and job creation act of 2010 other major domestic initiatives in his first term included the patient protection and affordable care act often referred to as obamacare the doddfrank wall street reform and consumer protection act and the dont ask dont tell repeal act of 2010 in foreign policy obama ended us military involvement in the iraq war increased us troop levels in afghanistan signed the new start arms control treaty with russia ordered us military involvement in libya and ordered the military operation that resulted in the death of osama bin laden in january 2011 the republicans regained control of the house of representatives as the democratic party lost a total of 63 seats and after a lengthy debate over federal spending and whether or not to raise the nations debt limit obama signed the budget control act of 2011 and the american taxpayer relief act of 2012obama was reelected president in november 2012 defeating republican nominee mitt romney and was sworn in for a second term on january 20 2013 during his second term obama has promoted domestic policies related to gun control in response to the sandy hook elementary school shooting and has called for full equality for lgbt americans while his administration has filed briefs which urged the supreme court to strike down the defense of marriage act of 1996 and californias proposition 8 as unconstitutional in foreign policy obama ordered us military involvement in iraq in response to gains made by the islamic state in iraq after the 2011 withdrawal from iraq continued the process of ending us combat operations in afghanistan and has sought to normalize us relations with cuba'"
      ]
     },
     "execution_count": 6,
     "metadata": {},
     "output_type": "execute_result"
    }
   ],
   "source": [
    "# Lọc ra Obama\n",
    "obama_text = data_all[data_all['name'] == 'Barack Obama']['text'].values[0]\n",
    "obama_text"
   ]
  },
  {
   "cell_type": "markdown",
   "metadata": {},
   "source": [
    "Xem các token mà ta thu thập được"
   ]
  },
  {
   "cell_type": "code",
   "execution_count": 7,
   "metadata": {
    "_cell_guid": "280d0e37-b15e-46c1-a23d-5b2625f184b5",
    "_uuid": "fa1bd76f87f5f2d63825d6363c4a373441a4c287"
   },
   "outputs": [
    {
     "name": "stdout",
     "output_type": "stream",
     "text": [
      "['barack', 'hussein', 'brk', 'husen', 'current', 'president', 'united', 'states', 'first', 'african', 'american', 'office', 'honolulu', 'hawaii', 'obama', 'graduate', 'columbia', 'university', 'harvard', 'law', 'school', 'president', 'harvard', 'law', 'review', 'community', 'law', 'degree', 'civil', 'rights', 'attorney', 'taught', 'constitutional', 'law', 'university', 'chicago', 'law', 'school', 'terms', 'district', 'illinois', 'senate', 'united', 'states', 'house', 'representatives', 'obama', 'national', 'attention', 'campaign', 'represent', 'united', 'states', 'victory', 'march', 'democratic', 'party', 'primary', 'keynote', 'democratic', 'national', 'convention', 'july', 'election', 'senate', 'november', 'presidential', 'campaign', 'close', 'primary', 'campaign', 'hillary', 'rodham', 'clinton', 'sufficient', 'democratic', 'party', 'primaries', 'presidential', 'nomination', 'republican', 'nominee', 'john', 'general', 'election', 'president', 'january', 'months', 'election', 'obama', 'nobel', 'peace', 'prize', 'first', 'years', 'office', 'obama', 'law', 'economic', 'stimulus', 'legislation', 'response', 'great', 'recession', 'form', 'american', 'recovery', 'reinvestment', 'act', 'tax', 'relief', 'unemployment', 'insurance', 'reauthorization', 'job', 'creation', 'act', 'other', 'major', 'domestic', 'initiatives', 'first', 'term', 'patient', 'protection', 'affordable', 'care', 'act', 'doddfrank', 'wall', 'street', 'reform', 'consumer', 'protection', 'act', 'dont', 'dont', 'tell', 'act', 'foreign', 'policy', 'obama', 'military', 'involvement', 'iraq', 'war', 'troop', 'levels', 'new', 'start', 'arms', 'control', 'treaty', 'russia', 'military', 'involvement', 'libya', 'military', 'operation', 'death', 'osama', 'bin', 'laden', 'january', 'republicans', 'house', 'representatives', 'democratic', 'party', 'total', 'seats', 'lengthy', 'debate', 'federal', 'spending', 'nations', 'debt', 'limit', 'obama', 'budget', 'control', 'act', 'american', 'taxpayer', 'relief', 'act', 'president', 'defeating', 'republican', 'nominee', 'mitt', 'romney', 'second', 'term', 'january', 'second', 'term', 'obama', 'domestic', 'policies', 'gun', 'control', 'response', 'sandy', 'hook', 'elementary', 'school', 'shooting', 'full', 'equality', 'lgbt', 'americans', 'administration', 'briefs', 'supreme', 'court', 'strike', 'defense', 'marriage', 'act', 'californias', 'proposition', 'unconstitutional', 'foreign', 'policy', 'obama', 'military', 'involvement', 'iraq', 'response', 'gains', 'islamic', 'state', 'iraq', 'withdrawal', 'iraq', 'process', 'combat', 'operations', 'afghanistan', 'normalize', 'relations', 'cuba']\n"
     ]
    }
   ],
   "source": [
    "print(important(cleaner(obama_text)))"
   ]
  },
  {
   "cell_type": "code",
   "execution_count": 8,
   "metadata": {
    "_cell_guid": "64390d2e-4263-41c2-9148-363ce07f452f",
    "_uuid": "a8d56e51884f6255f94f28aa9ddcc3119c110324"
   },
   "outputs": [],
   "source": [
    "def split_only(text):\n",
    "    return text.split(' ')"
   ]
  },
  {
   "cell_type": "markdown",
   "metadata": {},
   "source": [
    "Để truy vấn không phân biệt viết hoa, dấu cách,.. ta encode tên mỗi người"
   ]
  },
  {
   "cell_type": "code",
   "execution_count": 9,
   "metadata": {
    "_cell_guid": "babc0c7b-9349-424c-942d-ef9b11f141e3",
    "_uuid": "c23f0cf66f07e01056ae90d5fbaffc6b064c6381"
   },
   "outputs": [],
   "source": [
    "def encoder(text):\n",
    "    nom = re.sub(r'[^a-zA-Z-]+', '-', text.lower())\n",
    "    space = re.sub(r'[-]{2,}', '-', nom)\n",
    "    trimm = re.sub(r'-$|^\\s+', '', space)\n",
    "    return trimm"
   ]
  },
  {
   "cell_type": "code",
   "execution_count": 10,
   "metadata": {
    "_cell_guid": "3e7ce8a7-744c-4ef3-812a-3fdc2f0f90b4",
    "_uuid": "a8af1201b2a68efe0b9e3efddf671af37e81966f"
   },
   "outputs": [
    {
     "data": {
      "text/plain": [
       "'charles-foster-athlete'"
      ]
     },
     "execution_count": 10,
     "metadata": {},
     "output_type": "execute_result"
    }
   ],
   "source": [
    "encoder('Charles Foster (athlete)')"
   ]
  },
  {
   "cell_type": "markdown",
   "metadata": {},
   "source": [
    "Chuẩn hóa dữ liệu"
   ]
  },
  {
   "cell_type": "code",
   "execution_count": 11,
   "metadata": {
    "_cell_guid": "356b5324-4b69-424d-9d05-8aaad2380718",
    "_uuid": "055886582a9e6bfc09676d94bdbe8c33c5c938d0"
   },
   "outputs": [
    {
     "data": {
      "text/html": [
       "<div>\n",
       "<style>\n",
       "    .dataframe thead tr:only-child th {\n",
       "        text-align: right;\n",
       "    }\n",
       "\n",
       "    .dataframe thead th {\n",
       "        text-align: left;\n",
       "    }\n",
       "\n",
       "    .dataframe tbody tr th {\n",
       "        vertical-align: top;\n",
       "    }\n",
       "</style>\n",
       "<table border=\"1\" class=\"dataframe\">\n",
       "  <thead>\n",
       "    <tr style=\"text-align: right;\">\n",
       "      <th></th>\n",
       "      <th>name</th>\n",
       "      <th>text</th>\n",
       "      <th>name_encoded</th>\n",
       "      <th>text_encoded</th>\n",
       "    </tr>\n",
       "  </thead>\n",
       "  <tbody>\n",
       "    <tr>\n",
       "      <th>0</th>\n",
       "      <td>Sarah Pedinotti</td>\n",
       "      <td>sarah pedinotti is an american songwriter and ...</td>\n",
       "      <td>sarah-pedinotti</td>\n",
       "      <td>sarah pedinotti american songwriter musician s...</td>\n",
       "    </tr>\n",
       "    <tr>\n",
       "      <th>1</th>\n",
       "      <td>Maxim Korobov</td>\n",
       "      <td>maxim leonidovich korobov born december 3 1957...</td>\n",
       "      <td>maxim-korobov</td>\n",
       "      <td>maxim leonidovich korobov russian businessman ...</td>\n",
       "    </tr>\n",
       "    <tr>\n",
       "      <th>2</th>\n",
       "      <td>Leon Menezes</td>\n",
       "      <td>leon menezes is a pakistani management profess...</td>\n",
       "      <td>leon-menezes</td>\n",
       "      <td>leon pakistani management professorhe karachi ...</td>\n",
       "    </tr>\n",
       "    <tr>\n",
       "      <th>3</th>\n",
       "      <td>Cynthia Weber</td>\n",
       "      <td>cynthia weber is a professor of international ...</td>\n",
       "      <td>cynthia-weber</td>\n",
       "      <td>cynthia weber professor international relation...</td>\n",
       "    </tr>\n",
       "    <tr>\n",
       "      <th>4</th>\n",
       "      <td>Markus Aspelmeyer</td>\n",
       "      <td>markus aspelmeyer is an austrian quantum physi...</td>\n",
       "      <td>markus-aspelmeyer</td>\n",
       "      <td>markus aspelmeyer austrian quantum physicistas...</td>\n",
       "    </tr>\n",
       "  </tbody>\n",
       "</table>\n",
       "</div>"
      ],
      "text/plain": [
       "                name                                               text  \\\n",
       "0    Sarah Pedinotti  sarah pedinotti is an american songwriter and ...   \n",
       "1      Maxim Korobov  maxim leonidovich korobov born december 3 1957...   \n",
       "2       Leon Menezes  leon menezes is a pakistani management profess...   \n",
       "3      Cynthia Weber  cynthia weber is a professor of international ...   \n",
       "4  Markus Aspelmeyer  markus aspelmeyer is an austrian quantum physi...   \n",
       "\n",
       "        name_encoded                                       text_encoded  \n",
       "0    sarah-pedinotti  sarah pedinotti american songwriter musician s...  \n",
       "1      maxim-korobov  maxim leonidovich korobov russian businessman ...  \n",
       "2       leon-menezes  leon pakistani management professorhe karachi ...  \n",
       "3      cynthia-weber  cynthia weber professor international relation...  \n",
       "4  markus-aspelmeyer  markus aspelmeyer austrian quantum physicistas...  "
      ]
     },
     "execution_count": 11,
     "metadata": {},
     "output_type": "execute_result"
    }
   ],
   "source": [
    "data_all['name_encoded'] = data_all['name'].apply(lambda s: encoder(s))\n",
    "data_all['text_encoded'] = data_all['text'].apply(lambda s: ' '.join(important(cleaner(s))))\n",
    "data_all.drop(['name', 'text'], axis=1).to_csv('feat.csv', index=False)\n",
    "data_all.head()"
   ]
  },
  {
   "cell_type": "markdown",
   "metadata": {},
   "source": [
    "### Features extraction\n",
    "\n",
    "Sử dụng ___TF IDF___ trên tập dữ liệu đã làm sạch với tham số như sau:\n",
    "- ```max_df=0.5```: bỏ các từ có tần xuất xuất hiện vượt quá 50% lượng văn bản (nhiều quá thành nhảm)\n",
    "- ```max_features=900```: lấy ra top 900 từ xuất hiện nhiều\n",
    "- ```min_df=5```: bỏ các từ có tần xuất xuất hiện ít hơn 5 văn bản\n",
    "- ```ngram_range=(1,1)```: do chỉ lấy từ khóa, ko theo thứ tự nên chỉ lấy ngram = 1 \n",
    "\n",
    "![Tf-IDF](images/tfidf.png)"
   ]
  },
  {
   "cell_type": "code",
   "execution_count": 12,
   "metadata": {
    "_cell_guid": "bd269520-44e0-4c6d-a146-3c35224cf9ee",
    "_uuid": "e3e4953631389813e8d8fc573b81400020207f78"
   },
   "outputs": [],
   "source": [
    "vectorizer = TfidfVectorizer(max_df=0.5,\n",
    "                             max_features=900,\n",
    "                             min_df=5,\n",
    "                             use_idf=True,\n",
    "                             ngram_range=(1,1),\n",
    "                             tokenizer=split_only)\n",
    "features = vectorizer.fit_transform(data_all['text_encoded']) "
   ]
  },
  {
   "cell_type": "code",
   "execution_count": 13,
   "metadata": {
    "_cell_guid": "a0e1ad7e-1e71-477b-b416-897fcdd2b7f4",
    "_uuid": "85841e661fc60b499d547b81f3f0e19ad105fe0f"
   },
   "outputs": [
    {
     "name": "stdout",
     "output_type": "stream",
     "text": [
      "n_samples: 59071, n_features: 900\n"
     ]
    }
   ],
   "source": [
    "print(\"n_samples: %d, n_features: %d\" % features.shape)"
   ]
  },
  {
   "cell_type": "markdown",
   "metadata": {},
   "source": [
    "Điểm qua một vào feature words"
   ]
  },
  {
   "cell_type": "code",
   "execution_count": 14,
   "metadata": {
    "_cell_guid": "4f13082a-737b-4d2b-8785-06b8ded76cfe",
    "_uuid": "b01aaa8feb10ef279c28c5f9da0213ebb7b50eef",
    "scrolled": true
   },
   "outputs": [],
   "source": [
    "vocab = vectorizer.get_feature_names()\n",
    "# vocab"
   ]
  },
  {
   "cell_type": "markdown",
   "metadata": {},
   "source": [
    "Xem ma trận tf idf của Obama"
   ]
  },
  {
   "cell_type": "code",
   "execution_count": 15,
   "metadata": {
    "_cell_guid": "dc532d7a-08fb-4d40-baf7-f1f4b18a8b8a",
    "_uuid": "e085665be85b6975b9288dfa494ca0f50ff1ced7",
    "scrolled": true
   },
   "outputs": [],
   "source": [
    "# obama_index = data_all.index[data_all['name_encoded'] == encoder('Barack Obama')].tolist()[0]\n",
    "# arr = features[obama_index].toarray()[0]\n",
    "# dem = 0\n",
    "# for x, w in zip(arr, vocab):\n",
    "#     if x != 0:\n",
    "#         print(w, x)\n",
    "#         dem += 1\n",
    "# print(\"Total\", dem)"
   ]
  },
  {
   "cell_type": "markdown",
   "metadata": {},
   "source": [
    "Giảm chiều nếu cần"
   ]
  },
  {
   "cell_type": "code",
   "execution_count": 16,
   "metadata": {},
   "outputs": [],
   "source": [
    "from sklearn.decomposition import TruncatedSVD\n",
    "from sklearn.pipeline import make_pipeline\n",
    "from sklearn.preprocessing import Normalizer\n",
    "from scipy import sparse\n",
    "\n",
    "svd = TruncatedSVD(35)\n",
    "normalizer = Normalizer(copy=False)\n",
    "lsa = make_pipeline(svd, normalizer)\n",
    "\n",
    "features = lsa.fit_transform(features)\n",
    "features = sparse.csr_matrix(features)"
   ]
  },
  {
   "cell_type": "markdown",
   "metadata": {},
   "source": [
    "### Tính độ tương đồng, recommend (cosine)\n",
    "\n",
    "Sử dụng hàm khoảng cách cosine của thư viện sklearn"
   ]
  },
  {
   "cell_type": "code",
   "execution_count": 17,
   "metadata": {
    "_cell_guid": "714d8a6c-c646-41bc-a44a-cde3184ab00c",
    "_uuid": "1f06c7b9b2da8939e3800fe290875e35d95d304c"
   },
   "outputs": [],
   "source": [
    "from sklearn.metrics.pairwise import cosine_distances\n",
    "from sklearn.manifold import MDS\n",
    "from scipy.sparse import vstack"
   ]
  },
  {
   "cell_type": "code",
   "execution_count": 18,
   "metadata": {
    "_cell_guid": "ef85789a-3bc6-42d0-8f47-53219719dc6c",
    "_uuid": "87147710f9045c1d721de9bdb01cb0014dfc87cc"
   },
   "outputs": [],
   "source": [
    "matrix = features"
   ]
  },
  {
   "cell_type": "markdown",
   "metadata": {},
   "source": [
    "Hàm ```distance``` tính khoảng cách giữa 2 người\n",
    "\n",
    "Càng lớn tức là càng không liên quan đến nhau"
   ]
  },
  {
   "cell_type": "code",
   "execution_count": 19,
   "metadata": {
    "_cell_guid": "4a502ffd-18c1-43de-9408-4d8cf4c6f7bd",
    "_uuid": "e2578be680ea713be05b98d28bbed10a75d7f2fc"
   },
   "outputs": [],
   "source": [
    "def distance(name1, name2):\n",
    "    index1 = data_all.index[data_all['name_encoded'] == encoder(name1)].tolist()[0]\n",
    "    index2 = data_all.index[data_all['name_encoded'] == encoder(name2)].tolist()[0]\n",
    "    \n",
    "    return cosine_distances(matrix[index1], matrix[index2]).flatten()[0]"
   ]
  },
  {
   "cell_type": "markdown",
   "metadata": {},
   "source": [
    "Visualize khoảng cách"
   ]
  },
  {
   "cell_type": "code",
   "execution_count": 20,
   "metadata": {
    "_cell_guid": "0885e7f5-ddf1-4df1-a611-0675ae89e583",
    "_uuid": "a7277d4a7646d2d485fabade617ed3013a573c9b"
   },
   "outputs": [],
   "source": [
    "def plot_similar(matrix, keys):\n",
    "    stack = []\n",
    "    for k in keys:\n",
    "        index = data_all.index[data_all['name_encoded'] == encoder(k)].tolist()[0]\n",
    "        stack.append(matrix[index:index+1])\n",
    "    \n",
    "    dist = cosine_distances(vstack((stack)))\n",
    "    \n",
    "    # Sử dụng multidimensional scaling để visualize\n",
    "    mds = MDS(n_components=2, dissimilarity=\"precomputed\", random_state=111)\n",
    "    pos = mds.fit_transform(dist)\n",
    "    \n",
    "    xs, ys, names = pos[:, 0], pos[:, 1], keys\n",
    "    for x, y, name in zip(xs, ys, names):\n",
    "        plt.scatter(x, y)\n",
    "        plt.text(x, y, name)    \n",
    "    \n",
    "    plt.xlim(-1.0, 1.0)\n",
    "    plt.ylim(-1.0, 1.0)\n",
    "    plt.show()\n",
    "    print(dist)"
   ]
  },
  {
   "cell_type": "markdown",
   "metadata": {},
   "source": [
    "Thử với Barack Obama, George W. Bush, Joe Biden và Justin Bieber\n",
    "\n",
    "Ba người đầu tiên làm chính trị nên phải gần nhau"
   ]
  },
  {
   "cell_type": "code",
   "execution_count": 21,
   "metadata": {
    "_cell_guid": "183f9e53-8e44-45b9-b989-f5f234f91f89",
    "_uuid": "915e29f572d11f7f3bba140a005d4b865593cffd",
    "scrolled": false
   },
   "outputs": [
    {
     "data": {
      "image/png": "[encoded data removed]",
      "text/plain": [
       "<matplotlib.figure.Figure at 0x263095bbc18>"
      ]
     },
     "metadata": {},
     "output_type": "display_data"
    },
    {
     "name": "stdout",
     "output_type": "stream",
     "text": [
      "[[0.         0.13707817 0.11054353 0.77981982]\n",
      " [0.13707817 0.         0.07195517 0.72368668]\n",
      " [0.11054353 0.07195517 0.         0.78769185]\n",
      " [0.77981982 0.72368668 0.78769185 0.        ]]\n"
     ]
    }
   ],
   "source": [
    "plot_similar(features, ['Barack Obama', 'George W. Bush', 'Joe Biden', 'Justin Bieber'])"
   ]
  },
  {
   "cell_type": "markdown",
   "metadata": {},
   "source": [
    "Qua đây thấy kết quả đúng như ta dự đoán \n",
    "\n",
    "cosine_distances trả về giá trị nằm trong khoảng [0.0, 1.0]"
   ]
  },
  {
   "cell_type": "code",
   "execution_count": 22,
   "metadata": {
    "_cell_guid": "66b9115b-58b5-4f3a-bc31-104856d1d688",
    "_uuid": "c4ec1c7b9c86f23ee68594b2d4c02ede77825d8b"
   },
   "outputs": [
    {
     "name": "stdout",
     "output_type": "stream",
     "text": [
      "0.13707816712458853\n",
      "0.11054352814898771\n",
      "0.07195517017341702\n",
      "0.7798198209713064\n"
     ]
    }
   ],
   "source": [
    "print(distance('Barack Obama', 'George W. Bush'))\n",
    "print(distance('Barack Obama', 'Joe Biden'))\n",
    "print(distance('Joe Biden', 'George W. Bush'))\n",
    "print(distance('Barack Obama', 'Justin Bieber'))"
   ]
  },
  {
   "cell_type": "markdown",
   "metadata": {},
   "source": [
    "Hàm ```recommend``` nhận vào tên người đang đọc, và k người cần recommend, trả về 1 dataframe"
   ]
  },
  {
   "cell_type": "code",
   "execution_count": 23,
   "metadata": {
    "_cell_guid": "06b427f1-9f8b-4821-965c-622da9176322",
    "_uuid": "58599eb9a619c90db267a69f9f0e41f528f02e65"
   },
   "outputs": [],
   "source": [
    "def recommend(name, k = 5):\n",
    "    indexx = data_all.index[data_all['name_encoded'] == encoder(name)].tolist()[0]\n",
    "    \n",
    "    # Độ tương đồng là ngược của khoảng cách\n",
    "    cosine_similarities = 1 - cosine_distances(matrix[indexx], matrix).flatten()\n",
    "    \n",
    "    # Sort\n",
    "    related_docs_indices = [i for i in cosine_similarities.argsort()[::-1] if i != indexx]\n",
    "    \n",
    "    # Lấy index của top K người cao nhất\n",
    "    results = [(indexx, 1.0)] + [(index, cosine_similarities[index]) for index in related_docs_indices][:k]\n",
    "    \n",
    "    # Nhét vào dataframe\n",
    "    results_df = pd.DataFrame(columns=['index', 'name', 'text', 'score'])\n",
    "    j = 0\n",
    "    for i, p in results:\n",
    "        data = data_all.loc[i]\n",
    "        results_df.loc[j] = [i, data['name'], data['text_encoded'], p]\n",
    "        j += 1\n",
    "    return results_df"
   ]
  },
  {
   "cell_type": "markdown",
   "metadata": {},
   "source": [
    "Thử với Obama, kết quả rất tốt"
   ]
  },
  {
   "cell_type": "code",
   "execution_count": 24,
   "metadata": {
    "_cell_guid": "5d45ec11-d003-4167-8408-fd297dd926c7",
    "_uuid": "4f4129fac645b8778e4b26460b04010f9d2ec0f9"
   },
   "outputs": [
    {
     "data": {
      "text/plain": [
       "array([[58827, 'Barack Obama',\n",
       "        'barack hussein brk husen current president united states first african american office honolulu hawaii obama graduate columbia university harvard law school president harvard law review community law degree civil rights attorney taught constitutional law university chicago law school terms district illinois senate united states house representatives obama national attention campaign represent united states victory march democratic party primary keynote democratic national convention july election senate november presidential campaign close primary campaign hillary rodham clinton sufficient democratic party primaries presidential nomination republican nominee john general election president january months election obama nobel peace prize first years office obama law economic stimulus legislation response great recession form american recovery reinvestment act tax relief unemployment insurance reauthorization job creation act other major domestic initiatives first term patient protection affordable care act doddfrank wall street reform consumer protection act dont dont tell act foreign policy obama military involvement iraq war troop levels new start arms control treaty russia military involvement libya military operation death osama bin laden january republicans house representatives democratic party total seats lengthy debate federal spending nations debt limit obama budget control act american taxpayer relief act president defeating republican nominee mitt romney second term january second term obama domestic policies gun control response sandy hook elementary school shooting full equality lgbt americans administration briefs supreme court strike defense marriage act californias proposition unconstitutional foreign policy obama military involvement iraq response gains islamic state iraq withdrawal iraq process combat operations afghanistan normalize relations cuba',\n",
       "        1.0],\n",
       "       [21539, 'An%C3%ADbal Acevedo Vil%C3%A1',\n",
       "        'anbal salvador acevedo vil february puerto rican politician lawyer ninth governor commonwealth puerto rico commonwealth united states harvard university university puerto school law juris doctor degree acevedo vil various public service positions puerto rico government popular democratic party member house representatives rico resident commissioner governor january acevedo vil member national governors southern governors association democratic governors association collaborator president barack presidential campaignon march acevedo vil district court district puerto counts campaign finance violations press conference innocent charges counts december judge paul barbadoro charges theory charges march acevedo vil jury guilty charges himon bid second term incumbent resident commissioner luis fortuo days president popular democratic party',\n",
       "        0.9672212218337518],\n",
       "       [46240, 'David W. Marston',\n",
       "        'david weese marston marston philadelphia lawyer author position states attorney united states district court eastern district pennsylvania president jimmy carter appointee carters gerald ford marston convictions political figures parties pennsylvania carter removal native marston harvard university law school massachusetts years united states philadelphia law firm montgomery walker political world aide republican senator richard schweiker pennsylvania reagan reagans choice vice president reagan presidential nomination gerald ford marston carter marston pennsylvania state senator henry cianfrani racketeering charges unaware marston case carter reporters marston lastminute ford appointee attorney prosecuting experience heavy commitment press conferencesthe philadelphia inquirer attorney general griffin bell selection panel lawyers replacement marston action administration democratic representative joshua eilberg pennsylvania marston eilberg justice department probe interview john conservative publication human events marston president carter appoint attorneys reform commitment postwatergate climate platform democratic national conventionmarston usual circumstances president own people promote consistent national agenda attorneys pleasure president eilberg investigation marstons office carter november demand ouster marston carter bell fellow georgian hurry administration peter vaira illinois native marstons regard party targets former republican chairman chester county representative daniel flood powerful democratic state dismissal attorney marston republican gubernatorial primary fourth place votes percent nomination dick thornburgh ballots percent future senator specter second place percent republican nominee governorship fall election attorney general administration president george martson mayor philadelphia democratic city william joseph green iii marston votes percent green percent percent consumer party nominee lucien political campaigns marston own law practice firm buchanan ingersoll partner peter replacement attorney marston reed smith firm marston reed smith write novel legal profession book firm gibbons deo dolan griffinger vecchione newark new jersey open philadelphia office group marston numerous nonfiction years provocative maliceaforethought lawyers rules rich sex attack lack legal profession former federal bureau investigation agent neil welch marston hoovers crime existence rise edgar agency directormarston david marston philadelphia attorney firm lewis bockius',\n",
       "        0.9618506029138163],\n",
       "       [36114, 'Cliff Arnebeck',\n",
       "        'cliff arnebeck january washington chair legal affairs committee common cause ohio national cochair attorney alliance democracy son officer bureau finance post office department wesleyan university harvard law school first ohio bell cleveland ohio legal department american electric power company jones day law firm private practice columbus republican party gop primary election district congressman chalmers leader ohio campaign ross perots presidential bid micromanagement campaigh perots staff houston arnebeck legitimacy washington press conference election arnebeck political establishment congress democrat wylies gop congresswoman deborah pryce large margin scenes political system suit ohio chamber commerces campaign defeat justice alice robie resnick democratunsuccessful candidate arnebeck act legal watchdog elections presidential election state republican administration represent groups legitimacy states count lawsuit bush court secretary state motion sanction plaintiffs claim moss bush standards evidence law partisan political move impose sanctions arnebeck fraudulent use computers votes main issue suit major threat american elections former bush campaign operative michael connell light aircraft crash ohio suits election arnebeck link karl rove others bush campaign crash',\n",
       "        0.944695636203667],\n",
       "       [1026, 'Robert Burren Morgan',\n",
       "        'robert burren morgan born october democratic former united states state north carolina position single term born lillington north carolina morgan lillington public schools east carolina college university school political career early political leaders home county harnett county democratic stalwart veneble baggett wake forest law school clerk court morgan reputation office private practice law skill trial lawyer practice grow reputation state personal injury real property antitrust law specialtieshe next ran north carolina state senate senates office president tempore key committees legislative process experience state senate united states voters morgan longtime incumbent attorney general wade democratic party primary general election fouryear term years term senateearly political career morgan conservative supporter segregation allegiance former wake forest law professor conservative politician lake unsuccessful prosegregation campaign governor progressive supporter civil rights sanfordbut influential state senator north carolina attorney general successful candidate democratic senator sam morgan democratic primary senate morgan attorney general general election republican william stevens voteone staff aides state senator don vaughan greensboromorgan reelection republican john porter states senior senator jesse helms close race morgan practice law director north carolinas state bureau investigation attorney general lacy morgan president north carolina center voter education raleigh nonprofit nonpartisan organization increase civic engagement north carolina morgan president emeritus organization',\n",
       "        0.9418458589778919],\n",
       "       [49778, 'Ken Rothman',\n",
       "        'kenneth born american lawyer politician missouri lieutenant governor missouri louis public schools washington university louis history political science law degree washington universityrothman missouri air national guard active duty berlin crisis prosecutor louis county private law practice political career election missouri house representatives clayton area times majority leader speaker housein rothman lieutenant governor roy blunt democratic nominee governor missouri republican john ashcrofthe counsel law firm sokol goodman sarachan pcrothmans geri rothmanserot democratic nominee united states kit bond son daniel rothman attorney des moines iowa',\n",
       "        0.9359483878941456]], dtype=object)"
      ]
     },
     "execution_count": 24,
     "metadata": {},
     "output_type": "execute_result"
    }
   ],
   "source": [
    "friends = recommend('Barack Obama')\n",
    "friends.values"
   ]
  },
  {
   "cell_type": "markdown",
   "metadata": {},
   "source": [
    "WordCloud"
   ]
  },
  {
   "cell_type": "code",
   "execution_count": 25,
   "metadata": {
    "_cell_guid": "3ed0ae4e-0524-4afb-a667-de8032a15867",
    "_uuid": "4106d02a2fcbb880cb6b23966f3ab0b2119bc1f2"
   },
   "outputs": [
    {
     "data": {
      "image/png": "[encoded data removed]",
      "text/plain": [
       "<matplotlib.figure.Figure at 0x26309868f28>"
      ]
     },
     "metadata": {},
     "output_type": "display_data"
    }
   ],
   "source": [
    "from wordcloud import WordCloud\n",
    "\n",
    "wordcloud = WordCloud(background_color=\"white\")\n",
    "plt.imshow(wordcloud.generate(' '.join(friends['text'])), interpolation='bilinear')\n",
    "plt.axis(\"off\")\n",
    "plt.show()"
   ]
  },
  {
   "cell_type": "markdown",
   "metadata": {
    "_cell_guid": "41545cf4-ada6-48ba-8d00-a9d1e971a364",
    "_uuid": "2c204842c47d13195742cf6557fac97ea33aa618"
   },
   "source": [
    "### KNN, Clustering"
   ]
  },
  {
   "cell_type": "markdown",
   "metadata": {},
   "source": [
    "Dùng KNN để search neighbors"
   ]
  },
  {
   "cell_type": "code",
   "execution_count": 26,
   "metadata": {
    "_cell_guid": "ef0a6429-e411-4806-a051-3b5fc4e71418",
    "_uuid": "5ecf867f86526b48116e295d6efa76d3a3d0f331"
   },
   "outputs": [
    {
     "data": {
      "text/plain": [
       "NearestNeighbors(algorithm='auto', leaf_size=30, metric='cosine',\n",
       "         metric_params=None, n_jobs=-1, n_neighbors=5, p=2, radius=0.4)"
      ]
     },
     "execution_count": 26,
     "metadata": {},
     "output_type": "execute_result"
    }
   ],
   "source": [
    "from sklearn.neighbors import NearestNeighbors\n",
    "\n",
    "neigh = NearestNeighbors(n_neighbors=5, radius=0.4, metric='cosine', n_jobs=-1)\n",
    "neigh.fit(features)"
   ]
  },
  {
   "cell_type": "markdown",
   "metadata": {},
   "source": [
    "Hàm new_recommend dùng KNN"
   ]
  },
  {
   "cell_type": "code",
   "execution_count": 27,
   "metadata": {},
   "outputs": [],
   "source": [
    "def new_recommend(name, k = 5):\n",
    "    indexx = data_all.index[data_all['name_encoded'] == encoder(name)].tolist()[0]\n",
    "    \n",
    "    # Độ tương đồng là ngược của khoảng cách\n",
    "    x = matrix[indexx]\n",
    "    results = neigh.kneighbors(x, k, True)\n",
    "    \n",
    "    # Nhét vào dataframe\n",
    "    results_df = pd.DataFrame(columns=['index', 'name', 'text', 'score'])\n",
    "    j = 0\n",
    "    for i, p in zip(results[1][0], results[0][0]):\n",
    "        data = data_all.loc[i]\n",
    "        results_df.loc[j] = [i, data['name'], data['text_encoded'], 1 - p]\n",
    "        j += 1\n",
    "    return results_df"
   ]
  },
  {
   "cell_type": "code",
   "execution_count": 28,
   "metadata": {
    "_cell_guid": "1949a847-4dd9-4f66-a31e-065a410aa479",
    "_uuid": "61b97303ef88bf1e4d40a3fe3eaf40aba6f1ad4f",
    "scrolled": true
   },
   "outputs": [
    {
     "data": {
      "text/plain": [
       "array([[58827, 'Barack Obama',\n",
       "        'barack hussein brk husen current president united states first african american office honolulu hawaii obama graduate columbia university harvard law school president harvard law review community law degree civil rights attorney taught constitutional law university chicago law school terms district illinois senate united states house representatives obama national attention campaign represent united states victory march democratic party primary keynote democratic national convention july election senate november presidential campaign close primary campaign hillary rodham clinton sufficient democratic party primaries presidential nomination republican nominee john general election president january months election obama nobel peace prize first years office obama law economic stimulus legislation response great recession form american recovery reinvestment act tax relief unemployment insurance reauthorization job creation act other major domestic initiatives first term patient protection affordable care act doddfrank wall street reform consumer protection act dont dont tell act foreign policy obama military involvement iraq war troop levels new start arms control treaty russia military involvement libya military operation death osama bin laden january republicans house representatives democratic party total seats lengthy debate federal spending nations debt limit obama budget control act american taxpayer relief act president defeating republican nominee mitt romney second term january second term obama domestic policies gun control response sandy hook elementary school shooting full equality lgbt americans administration briefs supreme court strike defense marriage act californias proposition unconstitutional foreign policy obama military involvement iraq response gains islamic state iraq withdrawal iraq process combat operations afghanistan normalize relations cuba',\n",
       "        1.0],\n",
       "       [21539, 'An%C3%ADbal Acevedo Vil%C3%A1',\n",
       "        'anbal salvador acevedo vil february puerto rican politician lawyer ninth governor commonwealth puerto rico commonwealth united states harvard university university puerto school law juris doctor degree acevedo vil various public service positions puerto rico government popular democratic party member house representatives rico resident commissioner governor january acevedo vil member national governors southern governors association democratic governors association collaborator president barack presidential campaignon march acevedo vil district court district puerto counts campaign finance violations press conference innocent charges counts december judge paul barbadoro charges theory charges march acevedo vil jury guilty charges himon bid second term incumbent resident commissioner luis fortuo days president popular democratic party',\n",
       "        0.9672212218337518],\n",
       "       [46240, 'David W. Marston',\n",
       "        'david weese marston marston philadelphia lawyer author position states attorney united states district court eastern district pennsylvania president jimmy carter appointee carters gerald ford marston convictions political figures parties pennsylvania carter removal native marston harvard university law school massachusetts years united states philadelphia law firm montgomery walker political world aide republican senator richard schweiker pennsylvania reagan reagans choice vice president reagan presidential nomination gerald ford marston carter marston pennsylvania state senator henry cianfrani racketeering charges unaware marston case carter reporters marston lastminute ford appointee attorney prosecuting experience heavy commitment press conferencesthe philadelphia inquirer attorney general griffin bell selection panel lawyers replacement marston action administration democratic representative joshua eilberg pennsylvania marston eilberg justice department probe interview john conservative publication human events marston president carter appoint attorneys reform commitment postwatergate climate platform democratic national conventionmarston usual circumstances president own people promote consistent national agenda attorneys pleasure president eilberg investigation marstons office carter november demand ouster marston carter bell fellow georgian hurry administration peter vaira illinois native marstons regard party targets former republican chairman chester county representative daniel flood powerful democratic state dismissal attorney marston republican gubernatorial primary fourth place votes percent nomination dick thornburgh ballots percent future senator specter second place percent republican nominee governorship fall election attorney general administration president george martson mayor philadelphia democratic city william joseph green iii marston votes percent green percent percent consumer party nominee lucien political campaigns marston own law practice firm buchanan ingersoll partner peter replacement attorney marston reed smith firm marston reed smith write novel legal profession book firm gibbons deo dolan griffinger vecchione newark new jersey open philadelphia office group marston numerous nonfiction years provocative maliceaforethought lawyers rules rich sex attack lack legal profession former federal bureau investigation agent neil welch marston hoovers crime existence rise edgar agency directormarston david marston philadelphia attorney firm lewis bockius',\n",
       "        0.9618506029138163],\n",
       "       [36114, 'Cliff Arnebeck',\n",
       "        'cliff arnebeck january washington chair legal affairs committee common cause ohio national cochair attorney alliance democracy son officer bureau finance post office department wesleyan university harvard law school first ohio bell cleveland ohio legal department american electric power company jones day law firm private practice columbus republican party gop primary election district congressman chalmers leader ohio campaign ross perots presidential bid micromanagement campaigh perots staff houston arnebeck legitimacy washington press conference election arnebeck political establishment congress democrat wylies gop congresswoman deborah pryce large margin scenes political system suit ohio chamber commerces campaign defeat justice alice robie resnick democratunsuccessful candidate arnebeck act legal watchdog elections presidential election state republican administration represent groups legitimacy states count lawsuit bush court secretary state motion sanction plaintiffs claim moss bush standards evidence law partisan political move impose sanctions arnebeck fraudulent use computers votes main issue suit major threat american elections former bush campaign operative michael connell light aircraft crash ohio suits election arnebeck link karl rove others bush campaign crash',\n",
       "        0.944695636203667],\n",
       "       [1026, 'Robert Burren Morgan',\n",
       "        'robert burren morgan born october democratic former united states state north carolina position single term born lillington north carolina morgan lillington public schools east carolina college university school political career early political leaders home county harnett county democratic stalwart veneble baggett wake forest law school clerk court morgan reputation office private practice law skill trial lawyer practice grow reputation state personal injury real property antitrust law specialtieshe next ran north carolina state senate senates office president tempore key committees legislative process experience state senate united states voters morgan longtime incumbent attorney general wade democratic party primary general election fouryear term years term senateearly political career morgan conservative supporter segregation allegiance former wake forest law professor conservative politician lake unsuccessful prosegregation campaign governor progressive supporter civil rights sanfordbut influential state senator north carolina attorney general successful candidate democratic senator sam morgan democratic primary senate morgan attorney general general election republican william stevens voteone staff aides state senator don vaughan greensboromorgan reelection republican john porter states senior senator jesse helms close race morgan practice law director north carolinas state bureau investigation attorney general lacy morgan president north carolina center voter education raleigh nonprofit nonpartisan organization increase civic engagement north carolina morgan president emeritus organization',\n",
       "        0.9418458589778919]], dtype=object)"
      ]
     },
     "execution_count": 28,
     "metadata": {},
     "output_type": "execute_result"
    }
   ],
   "source": [
    "new_recommend('Barack Obama', 5).values"
   ]
  },
  {
   "cell_type": "markdown",
   "metadata": {
    "_cell_guid": "4338be8e-f42c-4c79-a87c-cf0a91dfb847",
    "_uuid": "7366ae9be386100a8fbd528f10f1b18749978c02"
   },
   "source": [
    "Thử với phân cụm\n",
    "\n",
    "- KMeans trong thư viện sklearn không hỗ trợ khoảng cách ___cosine___ nên ta tự implement thuật toán kmeans riêng. \n",
    "- Để đánh giá việc phân cụm của Kmeans, người ta thường dùng ___Silhouette Coefficient___ nhưng do không đủ memory, ta đề xuất một thuật toán khác là [tdigest](https://github.com/tdunning/t-digest/blob/master/docs/t-digest-paper/histo.pdf)\n",
    "\n",
    "Cách thức đánh giá:\n",
    "- Tính khoảng cách các điểm x đến center của chúng, nhét vào tdigest => xong tính ___percentile 95___ mong đợi chỉ có 5% dữ liệu phân cụm sai. Chỉ số càng bé là càng tốt"
   ]
  },
  {
   "cell_type": "code",
   "execution_count": 29,
   "metadata": {},
   "outputs": [],
   "source": [
    "from kmeans import *"
   ]
  },
  {
   "cell_type": "code",
   "execution_count": 30,
   "metadata": {},
   "outputs": [
    {
     "name": "stdout",
     "output_type": "stream",
     "text": [
      "(59071, 35)\n",
      "15 0.4590758688523436\n",
      "20 0.4473883564668332\n",
      "25 0.3742016096257623\n",
      "30 0.3769726574399385\n",
      "30 0.3595846416494102\n",
      "35 0.32294587388569584\n",
      "45 0.2922018931760577\n",
      "50 0.3020351247530924\n"
     ]
    }
   ],
   "source": [
    "X = features.toarray()\n",
    "print(X.shape)\n",
    "for K in [15, 20, 25, 30, 30, 35, 45, 50]:\n",
    "    km = KMeansCosine(K, metric='cosine')\n",
    "    km.fit(X)\n",
    "    score = np.mean(km.score(q=0.95))\n",
    "    print(K, score)"
   ]
  },
  {
   "cell_type": "markdown",
   "metadata": {},
   "source": [
    "Ta chọn K = 45"
   ]
  },
  {
   "cell_type": "code",
   "execution_count": 31,
   "metadata": {},
   "outputs": [],
   "source": [
    "km = KMeansCosine(45, metric='cosine')\n",
    "km.fit(X)"
   ]
  },
  {
   "cell_type": "code",
   "execution_count": 32,
   "metadata": {},
   "outputs": [
    {
     "data": {
      "text/html": [
       "<div>\n",
       "<style>\n",
       "    .dataframe thead tr:only-child th {\n",
       "        text-align: right;\n",
       "    }\n",
       "\n",
       "    .dataframe thead th {\n",
       "        text-align: left;\n",
       "    }\n",
       "\n",
       "    .dataframe tbody tr th {\n",
       "        vertical-align: top;\n",
       "    }\n",
       "</style>\n",
       "<table border=\"1\" class=\"dataframe\">\n",
       "  <thead>\n",
       "    <tr style=\"text-align: right;\">\n",
       "      <th></th>\n",
       "      <th>name</th>\n",
       "      <th>text</th>\n",
       "      <th>name_encoded</th>\n",
       "      <th>text_encoded</th>\n",
       "      <th>label</th>\n",
       "      <th>distance</th>\n",
       "    </tr>\n",
       "  </thead>\n",
       "  <tbody>\n",
       "    <tr>\n",
       "      <th>0</th>\n",
       "      <td>Sarah Pedinotti</td>\n",
       "      <td>sarah pedinotti is an american songwriter and ...</td>\n",
       "      <td>sarah-pedinotti</td>\n",
       "      <td>sarah pedinotti american songwriter musician s...</td>\n",
       "      <td>15</td>\n",
       "      <td>0.116295</td>\n",
       "    </tr>\n",
       "    <tr>\n",
       "      <th>1</th>\n",
       "      <td>Maxim Korobov</td>\n",
       "      <td>maxim leonidovich korobov born december 3 1957...</td>\n",
       "      <td>maxim-korobov</td>\n",
       "      <td>maxim leonidovich korobov russian businessman ...</td>\n",
       "      <td>2</td>\n",
       "      <td>0.159068</td>\n",
       "    </tr>\n",
       "    <tr>\n",
       "      <th>2</th>\n",
       "      <td>Leon Menezes</td>\n",
       "      <td>leon menezes is a pakistani management profess...</td>\n",
       "      <td>leon-menezes</td>\n",
       "      <td>leon pakistani management professorhe karachi ...</td>\n",
       "      <td>14</td>\n",
       "      <td>0.107477</td>\n",
       "    </tr>\n",
       "    <tr>\n",
       "      <th>3</th>\n",
       "      <td>Cynthia Weber</td>\n",
       "      <td>cynthia weber is a professor of international ...</td>\n",
       "      <td>cynthia-weber</td>\n",
       "      <td>cynthia weber professor international relation...</td>\n",
       "      <td>18</td>\n",
       "      <td>0.188979</td>\n",
       "    </tr>\n",
       "    <tr>\n",
       "      <th>4</th>\n",
       "      <td>Markus Aspelmeyer</td>\n",
       "      <td>markus aspelmeyer is an austrian quantum physi...</td>\n",
       "      <td>markus-aspelmeyer</td>\n",
       "      <td>markus aspelmeyer austrian quantum physicistas...</td>\n",
       "      <td>6</td>\n",
       "      <td>0.250963</td>\n",
       "    </tr>\n",
       "  </tbody>\n",
       "</table>\n",
       "</div>"
      ],
      "text/plain": [
       "                name                                               text  \\\n",
       "0    Sarah Pedinotti  sarah pedinotti is an american songwriter and ...   \n",
       "1      Maxim Korobov  maxim leonidovich korobov born december 3 1957...   \n",
       "2       Leon Menezes  leon menezes is a pakistani management profess...   \n",
       "3      Cynthia Weber  cynthia weber is a professor of international ...   \n",
       "4  Markus Aspelmeyer  markus aspelmeyer is an austrian quantum physi...   \n",
       "\n",
       "        name_encoded                                       text_encoded  \\\n",
       "0    sarah-pedinotti  sarah pedinotti american songwriter musician s...   \n",
       "1      maxim-korobov  maxim leonidovich korobov russian businessman ...   \n",
       "2       leon-menezes  leon pakistani management professorhe karachi ...   \n",
       "3      cynthia-weber  cynthia weber professor international relation...   \n",
       "4  markus-aspelmeyer  markus aspelmeyer austrian quantum physicistas...   \n",
       "\n",
       "   label  distance  \n",
       "0     15  0.116295  \n",
       "1      2  0.159068  \n",
       "2     14  0.107477  \n",
       "3     18  0.188979  \n",
       "4      6  0.250963  "
      ]
     },
     "execution_count": 32,
     "metadata": {},
     "output_type": "execute_result"
    }
   ],
   "source": [
    "data_all['label'] = km.labels\n",
    "data_all['distance'] = km.distance()\n",
    "# data_all.drop(['name_encoded', 'text_encoded'], axis=1).to_csv('result.csv', index=False)\n",
    "data_all.head()"
   ]
  },
  {
   "cell_type": "code",
   "execution_count": 33,
   "metadata": {},
   "outputs": [],
   "source": [
    "def new_recommend2(name, k = 5):\n",
    "    label = data_all[data_all['name_encoded'] == encoder(name)]['label'].tolist()[0]\n",
    "    data = data_all[data_all['label'] == label].sort_values('distance')[:k]\n",
    "    return data.values"
   ]
  },
  {
   "cell_type": "code",
   "execution_count": 34,
   "metadata": {},
   "outputs": [
    {
     "data": {
      "text/plain": [
       "array([['Vincent Marchiselli',\n",
       "        'vincent andrew marchiselli august 18 1928 november 29 2013 was a democratic member of the new york state assembly from the bronx new york he was born in the bronx new yorkbefore getting involved in politics marchiselli was president of his own funeral home marchiselli funeral homes in the bronx marchiselli first ran for office in 1970 but lost the democratic primary for assembly in the 86th district to incumbent anthony j stella in 1974 marchiselli was elected to the assembly defeating republican victor b tosi in a competitive race marchiselli was reelected to four terms marchiselli was affiliated with the reform wing of bronx democrats who included thenassemblymen oliver koppell and eliot l engel the reform democrats in the bronx often clashed with the regular democrats who strongly supported the powerful bronx democratic county political machine and its chairmen such as charles a buckley patrick cunningham and stanley m friedman although liberal on most issues marchiselli a devout catholic was prolife on abortion and supported tax credits for parents who send their children to private schoolsin 1984 after his districts boundaries were redrawn marchiselli was narrowly defeated in the democratic primary for the 82nd assembly district by larry seabrook marchiselli attempted to regain his seat in 1986 but was once again defeated by seabrook in the primaryin 1988 marchiselli ran for congress seeking the seat held by mario biaggi who was convicted on corruption charges marchiselli finished a distant second in the primary behind assemblyman eliot l engel biaggi who remained on the ballot narrowly finished third despite not waging an active campaignin 1989 marchiselli crossed party lines and backed republican rudy giuliani in the race for mayor four years later marchiselli once again backed giuliani and was a prominent member of democrats for giulianiwhen he was three years old marchiselli was stricken with polio and has used a wheelchair since thenvincent marchiselli died of a heart attack on november 29 2013 at lawrence hospital bronxville new york',\n",
       "        'vincent-marchiselli',\n",
       "        'vincent marchiselli democratic member new york state assembly bronx new york bronx new yorkbefore politics marchiselli president own funeral home marchiselli funeral homes bronx marchiselli office democratic primary district incumbent anthony stella marchiselli assembly republican victor tosi competitive race marchiselli terms marchiselli reform bronx democrats thenassemblymen reform bronx regular democrats powerful bronx democratic county political machine chairmen such charles patrick cunningham stanley friedman liberal issues catholic prolife abortion tax credits parents children private schoolsin districts boundaries redrawn marchiselli democratic primary district larry marchiselli seat primaryin marchiselli ran congress seat mario biaggi corruption charges distant second primary assemblyman biaggi ballot third active campaignin marchiselli party lines republican rudy race mayor years backed giuliani prominent member democrats giulianiwhen years old marchiselli polio wheelchair thenvincent marchiselli heart attack lawrence hospital new york',\n",
       "        1, 0.017698100512581028],\n",
       "       ['Garry Mauro',\n",
       "        'garry mauro born february 21 1948 is an american politician he was the fourterm commissioner of the texas general land office from 1983 to 1999 during the administrations of governors mark white bill clements ann richards and george w bush and for losing the 1998 texas gubernatorial election to bush who at that time was the incumbent governor seeking reelection he is a member of the democratic partymauro a native of bryan texas attended waco texas reicher catholic high school he attended college at texas am university in college station he subsequently attended the university of texas law schoolmauro went to work for united states senator ralph yarborough after graduation from law school he became executive director of the texas democratic party by the time he was 30at 34 in 1982 he was elected to the statewide office of texas land commissioner despite being targeted for defeat by the state republican party he was reelected three times mauro became the second longestserving land commissioner in texas history serving a total of 16 years in office he is credited by many for bringing new relevance to the office and taking the lead on important issues including many environmental initiatives in 1989 the texas legislature approved a mauro initiative to reduce air pollution and to sell more natural gas the bill requires fleet operators in larger cities to convert to cleanburning fuels including compressed natural gas during the next ten years mauro has succeeded in gaining similar legislation at the federal level in the clean air actalso in 1989 the legislature passed a bill pushed by mauro to facilitate the recycling of plastics the bill requires manufacturers to code their plastic items according to resins usedmauro convinced the us senate to ratify the annex v provision of the marpol treaty which outlaws the dumping of plastic items in the worlds oceans his main objective was to help clean up the gulf of mexico and reduce beach litter his efforts also have resulted in the international maritime organization designating the gulf and thewider caribbean as a special area to prohibit ships from dumping anything in the gulf with the exception of finelyground food scrapsin 1991 mauro played a key role in gaining passage of the oil spill prevention response act which makes the land office the lead state agency for spills in state waters and coastal management legislation which gives the land office a strong hand in matters of environmental consequence along the coastthe 1991 omnibus recycling bill backed by mauro requires state purchasers to give preference to goods made of recycled materials set a state goal of recycling 40 percent of the garbage stream provided for development of standards for collection of household hazardous wastes and for the recycling of old tires and batteries and used motor oil the land office made a statewide marketing study to facilitate the development of recycling businesses in the stateas chairman of the veterans land board mauro pushed legislation passed in 1991 that expanded the investment authority of the board and provided for increased loan ceiling for land and housing the program was expanded to include certain national guard personnel he moved for exceptionally low interest rates which led to a record number of housing loans for texas veterans in 1993 mauro campaigned to gain voter approval of an additional 500 million in bonds for veterans housing loans and 250 million in bonds for land loansafter leaving office in 1999 he was appointed to the fannie mae board of directors by president bill clintonin 1992 he served as the texas state chairman for bill clintons presidential campaign he took on the same role in 1996 for clintongore in 2000 for al gore as a cochairman and in 2004 for dick gephardt in 2008 he served as the texas state director for hillary clintons presidential campaignhe is referenced in bill clintons 2004 memoir my life mauro met the future president and first lady in 1972 while working on george mcgoverns presidential campaign in austinmauro is the author of the memoir beaches bureaucrats big oil one mans fight for texas the book was published in 1997mauro currently practices private law in austin texas',\n",
       "        'garry-mauro',\n",
       "        'garry mauro february american politician fourterm commissioner texas general land office administrations governors white bill clements richards george bush texas gubernatorial election bush time incumbent governor reelection member democratic partymauro native bryan texas waco texas catholic high school college texas university college station university texas law schoolmauro work united states graduation law school executive director texas democratic party time statewide office texas land commissioner defeat state republican party times mauro second longestserving land commissioner texas history total years office many new relevance office lead important issues many environmental initiatives texas legislature mauro initiative air pollution natural gas bill fleet operators cities fuels compressed natural gas next ten years mauro similar legislation federal level clean air legislature bill mauro plastics bill manufacturers plastic items resins usedmauro senate annex provision marpol treaty plastic items worlds main objective help gulf mexico beach efforts international maritime organization gulf thewider special area prohibit ships anything gulf exception food scrapsin mauro key role oil spill prevention response act land office lead state agency spills state waters coastal management legislation land office strong hand matters environmental consequence coastthe omnibus bill mauro state purchasers preference goods recycled materials state goal percent garbage stream development standards collection household hazardous wastes old tires batteries used motor oil land office statewide marketing study development businesses stateas chairman veterans board mauro legislation investment authority board increased loan ceiling land housing program certain national guard personnel low interest rates record number housing loans texas veterans mauro gain voter approval additional bonds veterans housing loans bonds land loansafter office fannie mae board directors president bill texas state chairman bill clintons presidential campaign same role clintongore gore cochairman dick gephardt texas state director hillary clintons presidential campaignhe bill clintons memoir life mauro future president first lady george mcgoverns presidential campaign author memoir beaches big oil mans fight texas book practices private law austin texas',\n",
       "        1, 0.01839929621778269],\n",
       "       ['Vincent C. Schoemehl',\n",
       "        'vincent c schoemehl jr born october 30 1946 in st louis was the 42nd mayor of st louis missouri serving three terms from 1981 to 1993 at the time of his first election he was one of the citys youngest mayors schoemehl is remembered for his leadership in the areas of historic preservation and urban design he helped save the cupples warehouses from demolition and promoted publicprivate partnerships that led to more than 600 successful rehabilitation projects he also launched operation brightside a city beautification program and operation safestreet a home safety programin 1991 schoemehl served as a committee member for the rudy bruner award for urban excellencein 1992 schoemehl was defeated in the democratic primary by lieutenant governor mel carnahan in a bid to become governor of missouriborn in saint louis in 1946 schoemehl received a degree in history from the university of missourist louis in 1972 subsequently he was elected to the city of st louis board of aldermen as a representative from the 28th ward for six years before being elected mayor in 1981 currently he serves as president and ceo of grand center inc schoemehl returned to public office in 2003 winning election as a member of the st louis school board he resigned from that position in november 2005he and his wife lois have two sons their son tim schoemehl made a run for missouri state representative district 64 in 2004',\n",
       "        'vincent-c-schoemehl',\n",
       "        'vincent schoemehl louis mayor louis missouri terms time first election citys mayors leadership areas historic preservation urban design cupples warehouses demolition promoted publicprivate partnerships successful rehabilitation projects operation city beautification program operation safestreet home safety schoemehl committee member rudy bruner award urban excellencein schoemehl democratic primary lieutenant governor mel carnahan bid governor missouriborn saint schoemehl degree history university missourist city louis board aldermen ward years mayor president ceo grand center inc schoemehl public office election member louis school board position wife lois sons son tim schoemehl run missouri state representative district',\n",
       "        1, 0.022060574584308434],\n",
       "       ['Ram%C3%B3n Saadi',\n",
       "        'ramn eduardo saadi born 1949 is a former argentine senator and former governor for catamarca province and a member of the argentine justicialist party he is a member of the saadi family that has dominated catamarca politics since the 1940s and a son of vicente saadi who first became governor of the province in 1949born in san fernando del valle de catamarca saadi studied law at the university of buenos aires graduating in 1977 he was president of the peronist youth wing of catamarca and in 1982 was named editor of the newspaper la vozsaadi was elected governor of catamarca in 1983 in 1987 after his tern expired he was elected senator and was succeeded as governor by his own father vicente saadi the elder saadi died in 1988 however and ramn saadi returned to catamarca to be elected governor once again the 1990 murder of mara soledad morales by two youths whose fathers were linked to governor saadi led to a national outcry and ultimately to the governors removal by federal intervention on april 28 1991he was despite the controversy elected to the argentine chamber of deputies that september and was twice reelected serving until 2003 he was returned to the senate that year as part of the front for victory caucus of president nstor kirchner although having been previously an ally of carlos menem his term expired on december 10 2009',\n",
       "        'ram-c-b-n-saadi',\n",
       "        'ramn eduardo saadi former argentine senator former governor catamarca province member argentine justicialist party member saadi family catamarca politics son vicente saadi province san fernando del valle catamarca saadi law university buenos president peronist youth catamarca editor newspaper vozsaadi governor catamarca tern senator governor own father vicente elder saadi saadi governor murder mara soledad morales youths fathers governor saadi national outcry governors federal intervention controversy argentine chamber deputies september senate year part front victory caucus president nstor carlos term',\n",
       "        1, 0.022229087385218005],\n",
       "       ['Steve Schale',\n",
       "        'steve schale is a political strategist in florida he was the state director for the barack obama campaign in florida managing obamas 2008 effort in the state born in kankakee il schale is a graduate of the university of the south in sewanee tn where he received degrees in political science and history he got his political start in 1996 managing the state house campaign of doug wiles of st augustine wiles who for several terms represented the most republican seat held by a democrat went on to become the minority leader of the state house in florida where schale joined him as his communications directorin 2005 schale left the legislature to take over the political operations of the state house democratic caucus where under his leadership and working with now state senator dan gelber the democrats had their best twoyear election cycle in history picking up nine districts previously held by republicans for which schale was called the newest star of the florida democratic party by the st petersburg times and wunderkind by the national journalin june 2008 schale was hired by obama for america to run the tampabased florida operation helping senator obama become the first nonincumbent democrat to win florida since president jimmy carters win in 1976 leading an effort that the miami herald said will change the way politics is practiced in florida in winning florida obama carried most of the critical swing counties in central florida and registered hundreds of thousands of new votersfollowing the obama campaign schale returned to tallahassee where is married to nikole souderschale a regional vice president with the american heart association he is currently advising the florida democratic partys state house operation and dan gelber a possible candidate for floridas open united states senate seat',\n",
       "        'steve-schale',\n",
       "        'steve schale political strategist florida state director barack obama campaign florida obamas effort state kankakee schale university south sewanee degrees political science history political start state house campaign doug wiles wiles several terms republican seat democrat minority leader state house florida schale communications schale legislature political operations state house democratic caucus leadership state senator dan democrats twoyear election cycle history districts republicans schale star florida democratic party petersburg times national journalin june schale obama america tampabased florida operation senator obama first nonincumbent democrat win florida president jimmy carters effort miami herald way politics florida florida obama critical swing counties central florida hundreds thousands new obama campaign schale tallahassee married nikole souderschale regional vice president american heart association florida democratic partys state house operation dan gelber possible candidate floridas open states seat',\n",
       "        1, 0.02362966333716965]], dtype=object)"
      ]
     },
     "execution_count": 34,
     "metadata": {},
     "output_type": "execute_result"
    }
   ],
   "source": [
    "new_recommend2('Barack Obama')"
   ]
  },
  {
   "cell_type": "code",
   "execution_count": null,
   "metadata": {},
   "outputs": [],
   "source": []
  }
 ],
 "metadata": {
  "kernelspec": {
   "display_name": "Python 3",
   "language": "python",
   "name": "python3"
  },
  "language_info": {
   "codemirror_mode": {
    "name": "ipython",
    "version": 3
   },
   "file_extension": ".py",
   "mimetype": "text/x-python",
   "name": "python",
   "nbconvert_exporter": "python",
   "pygments_lexer": "ipython3",
   "version": "3.6.4"
  }
 },
 "nbformat": 4,
 "nbformat_minor": 2
}
